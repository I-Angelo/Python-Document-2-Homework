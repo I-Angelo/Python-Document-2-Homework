{
 "cells": [
  {
   "cell_type": "markdown",
   "metadata": {},
   "source": [
    "# Functions, Scoping, Data Collections 1 & List Comprehensions"
   ]
  },
  {
   "cell_type": "markdown",
   "metadata": {},
   "source": [
    "## Tasks Today:\n",
    "\n",
    "<i>Monday Additions (or, and ... if statements)</i>\n",
    "\n",
    "1) String Manipulation <br>\n",
    " &nbsp;&nbsp;&nbsp;&nbsp; a) strip() <br>\n",
    " &nbsp;&nbsp;&nbsp;&nbsp; b) title() <br>\n",
    "2) Working With Lists <br>\n",
    " &nbsp;&nbsp;&nbsp;&nbsp; a) min() <br>\n",
    " &nbsp;&nbsp;&nbsp;&nbsp; b) max() <br>\n",
    " &nbsp;&nbsp;&nbsp;&nbsp; c) sum() <br>\n",
    " &nbsp;&nbsp;&nbsp;&nbsp; d) sort() <br>\n",
    " &nbsp;&nbsp;&nbsp;&nbsp; e) Copying a List <br>\n",
    " &nbsp;&nbsp;&nbsp;&nbsp; f) 'in' keyword <br>\n",
    " &nbsp;&nbsp;&nbsp;&nbsp; g) 'not in' keyword <br>\n",
    " &nbsp;&nbsp;&nbsp;&nbsp; i) Checking an Empty List <br>\n",
    " &nbsp;&nbsp;&nbsp;&nbsp; j) Removing Instances with a Loop <br>\n",
    "3) List Comprehensions <br>\n",
    "4) Tuples <br>\n",
    " &nbsp;&nbsp;&nbsp;&nbsp; a) sorted() <br>\n",
    "5) Functions <br>\n",
    " &nbsp;&nbsp;&nbsp;&nbsp; a) User-Defined vs. Built-In Functions <br>\n",
    " &nbsp;&nbsp;&nbsp;&nbsp; b) Accepting Parameters <br>\n",
    " &nbsp;&nbsp;&nbsp;&nbsp; c) Default Parameters <br>\n",
    " &nbsp;&nbsp;&nbsp;&nbsp; d) Making an Argument Optional <br>\n",
    " &nbsp;&nbsp;&nbsp;&nbsp; e) Keyword Arguments <br>\n",
    " &nbsp;&nbsp;&nbsp;&nbsp; f) Returning Values <br>\n",
    " &nbsp;&nbsp;&nbsp;&nbsp; g) *args <br>\n",
    " &nbsp;&nbsp;&nbsp;&nbsp; h) Docstring <br>\n",
    " &nbsp;&nbsp;&nbsp;&nbsp; i) Using a User Function in a Loop <br>\n",
    "6) Scope"
   ]
  },
  {
   "cell_type": "markdown",
   "metadata": {},
   "source": [
    "### String Manipulation"
   ]
  },
  {
   "cell_type": "markdown",
   "metadata": {},
   "source": [
    "##### .lstrip()"
   ]
  },
  {
   "cell_type": "code",
   "execution_count": 11,
   "metadata": {},
   "outputs": [
    {
     "name": "stdout",
     "output_type": "stream",
     "text": [
      "sdfgdfg Smith\n",
      "Smith\n",
      "Smith\n"
     ]
    }
   ],
   "source": [
    "# string.lstrip()\n",
    "# Stripps character or object on the left\n",
    "\n",
    "name = '     sdfgdfg Smith'\n",
    "print(name.lstrip(' '))\n",
    "\n",
    "print(name.lstrip(' ' 'sdfg')) #because 'dfg' is repeated twice above in the variable name, it erases \n",
    "                                #both instances\n",
    "name = '     sdfgdfg Smith'\n",
    "stripped_name = name.lstrip(' ''sdfg')\n",
    "print(stripped_name)"
   ]
  },
  {
   "cell_type": "markdown",
   "metadata": {},
   "source": [
    "##### .rstrip()"
   ]
  },
  {
   "cell_type": "code",
   "execution_count": 13,
   "metadata": {},
   "outputs": [
    {
     "name": "stdout",
     "output_type": "stream",
     "text": [
      "Bill Ross.\n"
     ]
    }
   ],
   "source": [
    "# string.rstrip()\n",
    "# Stripps character or object on the left\n",
    "\n",
    "name = 'Bill Ross.       th'\n",
    "print(name.rstrip(' ''th'))\n",
    "\n"
   ]
  },
  {
   "cell_type": "markdown",
   "metadata": {},
   "source": [
    "##### .strip()"
   ]
  },
  {
   "cell_type": "code",
   "execution_count": 14,
   "metadata": {},
   "outputs": [
    {
     "name": "stdout",
     "output_type": "stream",
     "text": [
      "John Smith\n"
     ]
    }
   ],
   "source": [
    "# string.strip()\n",
    "# This strips automatically on both ends \n",
    "\n",
    "name = '     John Smith    '\n",
    "print(name.strip())\n"
   ]
  },
  {
   "cell_type": "markdown",
   "metadata": {},
   "source": [
    "##### .title()"
   ]
  },
  {
   "cell_type": "code",
   "execution_count": 17,
   "metadata": {},
   "outputs": [
    {
     "name": "stdout",
     "output_type": "stream",
     "text": [
      "Donald Trump\n",
      "DONALD TRUMP\n",
      "donald trump\n"
     ]
    }
   ],
   "source": [
    "# string.title()\n",
    "# Capitilizes the first letter of each word\n",
    "\n",
    "president = ('donald trump')\n",
    "print(president.title())\n",
    "\n",
    "president = ('donald trump')\n",
    "print(president.upper())\n",
    "\n",
    "president = ('DONALD TRUMP')\n",
    "print(president.lower())"
   ]
  },
  {
   "cell_type": "markdown",
   "metadata": {},
   "source": [
    "### String Exercise <br>\n",
    "<p>Strip all white space and capitalize every name in the list given</p>"
   ]
  },
  {
   "cell_type": "code",
   "execution_count": 32,
   "metadata": {},
   "outputs": [
    {
     "name": "stdout",
     "output_type": "stream",
     "text": [
      "['Connor', 'Max', 'Evan', 'Jordan']\n"
     ]
    }
   ],
   "source": [
    "names = ['    coNNor', 'max', ' EVan ', 'JORDAN']\n",
    "# HINT: You will need to use a for loop for iteration\n",
    "\n",
    "index = 0\n",
    "index2 = 0\n",
    "for i in names:\n",
    "    names[index] = i.lower()\n",
    "    names[index] = i.title()\n",
    "    index += 1\n",
    "for i in names:\n",
    "    names[index2] = i.strip(' ')\n",
    "    index2 += 1\n",
    "\n",
    "print(names)"
   ]
  },
  {
   "cell_type": "markdown",
   "metadata": {},
   "source": [
    "### Working With Lists"
   ]
  },
  {
   "cell_type": "markdown",
   "metadata": {},
   "source": [
    "##### min()"
   ]
  },
  {
   "cell_type": "code",
   "execution_count": 34,
   "metadata": {},
   "outputs": [
    {
     "name": "stdout",
     "output_type": "stream",
     "text": [
      "3\n"
     ]
    }
   ],
   "source": [
    "# min(list)\n",
    "numbers = [4, 3, 7, 8, 11, 23]\n",
    "\n",
    "print(min(numbers))\n"
   ]
  },
  {
   "cell_type": "markdown",
   "metadata": {},
   "source": [
    "##### max()"
   ]
  },
  {
   "cell_type": "code",
   "execution_count": 35,
   "metadata": {},
   "outputs": [
    {
     "name": "stdout",
     "output_type": "stream",
     "text": [
      "23\n"
     ]
    }
   ],
   "source": [
    "# max(list)\n",
    "\n",
    "numbers = [4, 3, 7, 8, 11, 23]\n",
    "\n",
    "print(max(numbers))"
   ]
  },
  {
   "cell_type": "markdown",
   "metadata": {},
   "source": [
    "##### sum()"
   ]
  },
  {
   "cell_type": "code",
   "execution_count": 36,
   "metadata": {},
   "outputs": [
    {
     "name": "stdout",
     "output_type": "stream",
     "text": [
      "56\n"
     ]
    }
   ],
   "source": [
    "# sum(list)\n",
    "\n",
    "numbers = [4, 3, 7, 8, 11, 23]\n",
    "\n",
    "print(sum(numbers))\n"
   ]
  },
  {
   "cell_type": "markdown",
   "metadata": {},
   "source": [
    "##### sorted()"
   ]
  },
  {
   "cell_type": "code",
   "execution_count": 38,
   "metadata": {},
   "outputs": [
    {
     "name": "stdout",
     "output_type": "stream",
     "text": [
      "[3, 4, 7, 23, 80, 211]\n",
      "[4, 3, 7, 80, 211, 23]\n"
     ]
    }
   ],
   "source": [
    "# sorted(list)\n",
    "\n",
    "numbers = [4, 3, 7, 80, 211, 23]\n",
    "\n",
    "sorted_numbers = sorted(numbers)\n",
    "\n",
    "print(sorted_numbers)\n",
    "print(numbers)\n",
    "\n",
    "# sorted() does not change the original list. A new variable is needed in where to store the new list"
   ]
  },
  {
   "cell_type": "markdown",
   "metadata": {},
   "source": [
    "##### .sort() <br>\n",
    "<p>Difference between sort and sorted, is that sorted doesn't change original list it returns a copy, while .sort changes the original list</p>"
   ]
  },
  {
   "cell_type": "code",
   "execution_count": 40,
   "metadata": {},
   "outputs": [
    {
     "name": "stdout",
     "output_type": "stream",
     "text": [
      "List before sort(): [4, 3, 7, 80, 211, 23]\n",
      "[3, 4, 7, 23, 80, 211]\n"
     ]
    }
   ],
   "source": [
    "# list.sort()\n",
    "\n",
    "print(f'List before sort(): {numbers}')\n",
    "numbers.sort()  #if you do print(number.sort()), that is a function and will return 'none'\n",
    "print(numbers)\n",
    "\n",
    "# use sorted when you don't want to alter original list, use .sort() when you want to alter original list"
   ]
  },
  {
   "cell_type": "markdown",
   "metadata": {},
   "source": [
    "##### Copying a List"
   ]
  },
  {
   "cell_type": "code",
   "execution_count": 41,
   "metadata": {},
   "outputs": [
    {
     "name": "stdout",
     "output_type": "stream",
     "text": [
      "[3, 4, 7, 23, 80, 211]\n",
      "[3, 4, 7, 23, 80, 211]\n"
     ]
    }
   ],
   "source": [
    "# [:] copies a list, doesn't alter original\n",
    "# A new variable is needed for the copied list\n",
    "print(numbers)\n",
    "list_1 = numbers[:]\n",
    "print(list_1)\n"
   ]
  },
  {
   "cell_type": "markdown",
   "metadata": {},
   "source": [
    "##### 'in' keyword"
   ]
  },
  {
   "cell_type": "code",
   "execution_count": 46,
   "metadata": {},
   "outputs": [
    {
     "name": "stdout",
     "output_type": "stream",
     "text": [
      "Coding Temple Instructor\n",
      "\n",
      "\n",
      "Not found\n",
      "Not found\n",
      "Found\n",
      "Not found\n",
      "Not found\n",
      "\n",
      "\n",
      "Not found\n",
      "Not found\n",
      "Not found\n",
      "Found\n",
      "Not found\n",
      "\n",
      "\n",
      "Not found\n",
      "Found\n",
      "Found\n",
      "Found\n",
      "Not found\n"
     ]
    }
   ],
   "source": [
    "l_teachers = ['Joel', 'Derek', 'Conner', 'Brian', 'Joe']\n",
    "\n",
    "if 'Derek' in l_teachers:\n",
    "    print('Coding Temple Instructor')\n",
    "else:\n",
    "    print('Not a Coding Temple Instructor')\n",
    "\n",
    "print('\\n')\n",
    "    \n",
    "# To look for specific character within a whole list :\n",
    "\n",
    "l_teachers = ['Joel', 'Derek', 'Conner', 'Brian', 'Joe']\n",
    "\n",
    "for name in l_teachers:\n",
    "    if 'C' in name[0]: #By adding the index position '[0]', while the for-loop iterates over the list of object\n",
    "                        #inside the list l_teachers, being each name an individual object, [0] is the position of \n",
    "                        #the first character in each string  of each index. So it will look for the letter 'C' in \n",
    "                        #index[0] of each name. Try [1] and letter 'r'. It should find only 1 in Brian as it is on\n",
    "                        #position 1 of the object 'Brian'\n",
    "        print('Found')\n",
    "    else:\n",
    "        print('Not found')\n",
    "        \n",
    "print('\\n')\n",
    "\n",
    "for name in l_teachers:\n",
    "    if 'r' in name[1]: #By adding the index position '[0]', while the for-loop iterates over the list of object\n",
    "                        #inside the list l_teachers, being each name an individual object, [0] is the position of \n",
    "                        #the first character in each string  of each index. So it will look for the letter 'C' in \n",
    "                        #index[0] of each name. Try [1] and letter 'r'. It should find only 1 in Brian as it is on\n",
    "                        #position 1 of the object 'Brian'\n",
    "        print('Found')\n",
    "    else:\n",
    "        print('Not found')\n",
    "        \n",
    "print('\\n')\n",
    "# If we get rid of the index position on 'name' in the if-statement, the program will look for that letter \n",
    "# inside the whole name in each object in every index position\n",
    "\n",
    "for name in l_teachers:\n",
    "    if 'r' in name: \n",
    "        print('Found')\n",
    "    else:\n",
    "        print('Not found')"
   ]
  },
  {
   "cell_type": "markdown",
   "metadata": {},
   "source": [
    "##### 'not in' keyword"
   ]
  },
  {
   "cell_type": "code",
   "execution_count": 47,
   "metadata": {},
   "outputs": [
    {
     "name": "stdout",
     "output_type": "stream",
     "text": [
      "Not a Coding Temple instructor\n"
     ]
    }
   ],
   "source": [
    "l_teachers = ['Joel', 'Derek', 'Conner', 'Brian', 'Joe']\n",
    "\n",
    "\n",
    "if 'Zack' not in l_teachers:\n",
    "    print('Not a Coding Temple instructor')\n",
    "    \n",
    "    #Since the if-statement is True , then it will print"
   ]
  },
  {
   "cell_type": "markdown",
   "metadata": {},
   "source": [
    "##### Checking an Empty List"
   ]
  },
  {
   "cell_type": "code",
   "execution_count": 50,
   "metadata": {},
   "outputs": [
    {
     "name": "stdout",
     "output_type": "stream",
     "text": [
      "Its empty\n"
     ]
    }
   ],
   "source": [
    "# if l_1: or if l_1 = []\n",
    "\n",
    "list_2 = []\n",
    "\n",
    "if list_2 == []:\n",
    "    print('Its empty')"
   ]
  },
  {
   "cell_type": "markdown",
   "metadata": {},
   "source": [
    "##### Removing Instances with a Loop"
   ]
  },
  {
   "cell_type": "code",
   "execution_count": 63,
   "metadata": {},
   "outputs": [
    {
     "name": "stdout",
     "output_type": "stream",
     "text": [
      "['Connor', 'Max', 'Jordan', 'Ivan', 'Patrick']\n",
      "\n",
      "\n",
      "['Connor', 'Max', 'Evan', 'Jordan', 'Evan', 'Evan', 'Ivan', 'Patrick', 'Evan']\n",
      "['Connor', 'Max', 'Jordan', 'Ivan', 'Patrick', 'Evan']\n"
     ]
    }
   ],
   "source": [
    "# while, remove\n",
    "\n",
    "names2 = ['Connor', 'Max', 'Evan', 'Jordan', 'Evan', 'Ivan', 'Patrick', 'Evan']\n",
    "\n",
    "while 'Evan' in names2:\n",
    "    names2.remove('Evan')\n",
    "    \n",
    "print(names2)\n",
    "\n",
    "print('\\n')\n",
    "\n",
    "names3 = ['Connor', 'Max', 'Evan', 'Jordan', 'Evan', 'Evan', 'Ivan', 'Patrick', 'Evan']\n",
    "\n",
    "print(names3)\n",
    "# If we use a for loop, the first 'Evan' will be removed but not the next one next to it in case two are \n",
    "# consecutive . In any case a 'qhile-loop[' is more appropiate for this type of objectives of removing \n",
    "# object in a list , ESPECIALLY IF THERE IS MORE THAN ONE OF THE SAME OBJECT AND NEXT TO EACH OTHER\n",
    "\n",
    "for name in names3:\n",
    "    if name == 'Evan':\n",
    "        names3.remove('Evan')\n",
    "print(names3)"
   ]
  },
  {
   "cell_type": "markdown",
   "metadata": {},
   "source": [
    "### List Exercise <br>\n",
    "<p>Remove all duplicates<br><b>Extra: Create a program that will remove any duplicates from a given list</b></p>"
   ]
  },
  {
   "cell_type": "code",
   "execution_count": 68,
   "metadata": {},
   "outputs": [
    {
     "name": "stdout",
     "output_type": "stream",
     "text": [
      "{2, 3, 'connor', 4, 'evan', 'max', 'bob', 'kevin'}\n",
      "\n",
      "\n",
      "['connor', 'connor', 'bob', 'connor', 'evan', 'max', 'evan', 2, 2, 2, 3, 3, 4, 'bob', 'kevin']\n",
      "['connor', 'bob', 'evan', 'max', 2, 3, 4, 'kevin']\n"
     ]
    }
   ],
   "source": [
    "names4 = ['connor', 'connor', 'bob', 'connor', 'evan', 'max', 'evan', 2, 2, 2, 3, 3, 4, 'bob', 'kevin']\n",
    "# Hint 1: You will need an append\n",
    "# Hint 2: Using an empty list will make life easier\n",
    "\n",
    "names_no_dup = []\n",
    "\n",
    "names_no_dup = set(names4)\n",
    "\n",
    "print(names_no_dup) #This will remove all duplicates and also sort them. The example below will remove them \n",
    "                    # without sotring them and adding them to a temporary list\n",
    "    \n",
    "print('\\n')\n",
    "\n",
    "print(names4)\n",
    "names5=[]\n",
    "names_no_dup2 =[]\n",
    "\n",
    "for i in names4:\n",
    "    if i not in names_no_dup2:\n",
    "        names_no_dup2.append(i)\n",
    "        \n",
    "names5 = names_no_dup2\n",
    "\n",
    "print(names5)\n",
    "\n",
    "\n"
   ]
  },
  {
   "cell_type": "markdown",
   "metadata": {},
   "source": [
    "### List Comprehensions <br>\n",
    "<p>Creating a quickly generated list to work with<br>*result*  = [*transform*    *iteration*         *filter*     ]</p>"
   ]
  },
  {
   "cell_type": "markdown",
   "metadata": {},
   "source": [
    "##### In a list comprehension we have a few pieces:\n",
    "1. The first is the counter/ variable - IN this the variable is x\n",
    "2. then we have a transform for the variable\n",
    "3. The finale part of a list comp is called the condition\n",
    "\n",
    "```python\n",
    "    [variable, transform, condition]\n",
    "```"
   ]
  },
  {
   "cell_type": "code",
   "execution_count": 78,
   "metadata": {},
   "outputs": [
    {
     "name": "stdout",
     "output_type": "stream",
     "text": [
      "[0, 1, 2, 3, 4, 5, 6, 7, 8, 9, 10, 11, 12, 13, 14, 15, 16, 17, 18, 19, 20, 21, 22, 23, 24, 25, 26, 27, 28, 29, 30, 31, 32, 33, 34, 35, 36, 37, 38, 39, 40, 41, 42, 43, 44, 45, 46, 47, 48, 49, 50, 51, 52, 53, 54, 55, 56, 57, 58, 59, 60, 61, 62, 63, 64, 65, 66, 67, 68, 69, 70, 71, 72, 73, 74, 75, 76, 77, 78, 79, 80, 81, 82, 83, 84, 85, 86, 87, 88, 89, 90, 91, 92, 93, 94, 95, 96, 97, 98, 99]\n",
      "\n",
      "\n",
      "[0, 1, 2, 3, 4, 5, 6, 7, 8, 9, 10, 11, 12, 13, 14, 15, 16, 17, 18, 19, 20, 21, 22, 23, 24, 25, 26, 27, 28, 29, 30, 31, 32, 33, 34, 35, 36, 37, 38, 39, 40, 41, 42, 43, 44, 45, 46, 47, 48, 49, 50, 51, 52, 53, 54, 55, 56, 57, 58, 59, 60, 61, 62, 63, 64, 65, 66, 67, 68, 69, 70, 71, 72, 73, 74, 75, 76, 77, 78, 79, 80, 81, 82, 83, 84, 85, 86, 87, 88, 89, 90, 91, 92, 93, 94, 95, 96, 97, 98, 99]\n",
      "\n",
      "\n",
      "[1, 3, 5, 7, 9, 11, 13, 15, 17, 19, 21, 23, 25, 27, 29, 31, 33, 35, 37, 39, 41, 43, 45, 47, 49, 51, 53, 55, 57, 59, 61, 63, 65, 67, 69, 71, 73, 75, 77, 79, 81, 83, 85, 87, 89, 91, 93, 95, 97, 99]\n",
      "\n",
      "\n",
      "[1, 3, 5, 7, 9, 11, 13, 15, 17, 19, 21, 23, 25, 27, 29, 31, 33, 35, 37, 39, 41, 43, 45, 47, 49, 51, 53, 55, 57, 59, 61, 63, 65, 67, 69, 71, 73, 75, 77, 79, 81, 83, 85, 87, 89, 91, 93, 95, 97, 99]\n",
      "\n",
      "\n",
      "[1, 9, 25, 49, 81, 121, 169, 225, 289, 361, 441, 529, 625, 729, 841, 961, 1089, 1225, 1369, 1521, 1681, 1849, 2025, 2209, 2401, 2601, 2809, 3025, 3249, 3481, 3721, 3969, 4225, 4489, 4761, 5041, 5329, 5625, 5929, 6241, 6561, 6889, 7225, 7569, 7921, 8281, 8649, 9025, 9409, 9801]\n",
      "\n",
      "\n",
      "[1, 9, 25, 49, 81, 121, 169, 225, 289, 361, 441, 529, 625, 729, 841, 961, 1089, 1225, 1369, 1521, 1681, 1849, 2025, 2209, 2401, 2601, 2809, 3025, 3249, 3481, 3721, 3969, 4225, 4489, 4761, 5041, 5329, 5625, 5929, 6241, 6561, 6889, 7225, 7569, 7921, 8281, 8649, 9025, 9409, 9801]\n",
      "\n",
      "\n",
      "\n",
      "\n"
     ]
    }
   ],
   "source": [
    "# number comprehension\n",
    "\n",
    "# With a regular for loop\n",
    "\n",
    "nums = []\n",
    "\n",
    "for i in range(100):\n",
    "    nums.append(i)\n",
    "print(nums)\n",
    "\n",
    "# IN a list comprehension we have a few pieces:\n",
    "# The first is the counter/ variable - IN this the variable is x\n",
    "# Then we have a transform for the variable \n",
    "# The finale part of a list comp is called the condition\n",
    "#[variable, transform, condition]\n",
    "print('\\n')\n",
    "\n",
    "nums2 = [i for i in range(100)]\n",
    "print(nums2)\n",
    "\n",
    "print('\\n')\n",
    "nums3 = []\n",
    "for i in range(100):\n",
    "    if i % 2 == 1:\n",
    "        nums3.append(i)\n",
    "print(nums3)\n",
    "\n",
    "print('\\n')\n",
    "nums4 = [i for i in range(100) if i % 2 == 1]\n",
    "print(nums4)\n",
    "\n",
    "print('\\n')\n",
    "nums5 = []\n",
    "for i in range(100):\n",
    "    if i % 2 == 1:\n",
    "        nums5.append(i**2)\n",
    "print(nums5)\n",
    "\n",
    "print('\\n')\n",
    "nums6 = [i**2 for i in range(100) if i % 2 == 1]\n",
    "print(nums6)\n",
    " \n",
    "print('\\n')\n",
    "\n",
    "print('\\n')"
   ]
  },
  {
   "cell_type": "code",
   "execution_count": null,
   "metadata": {},
   "outputs": [],
   "source": []
  },
  {
   "cell_type": "markdown",
   "metadata": {},
   "source": [
    "There are a few benefits to using List comprehensions. The most obvious would be that we now have shorter code to work with instead of using 3+ lines of code in the for loop variant.\n",
    "\n",
    "Another is an added benefit to memory usage. Since the list's memory is allocated first before adding elements to it, we don't have to resize the list once we add elements to it.\n",
    "\n",
    "Lastly, list comprehensions are considered the \"pythonic\" way to write code by the PEP8 standards (Python Style Guide)"
   ]
  },
  {
   "cell_type": "code",
   "execution_count": 87,
   "metadata": {},
   "outputs": [
    {
     "name": "stdout",
     "output_type": "stream",
     "text": [
      "[0, 1, 4, 9, 16, 25, 36, 49, 64, 81]\n",
      "\n",
      "\n",
      "[0, 1, 4, 9, 16, 25, 36, 49, 64, 81]\n",
      "\n",
      "\n",
      "[0, 1, 4, 9, 16, 25, 36, 49, 64, 81]\n",
      "\n",
      "\n",
      "[0, 4, 16, 36, 64, 100, 144, 196, 256, 324]\n"
     ]
    }
   ],
   "source": [
    "# square number comprehension\n",
    "\n",
    "squares = [i ** 2 for i in range (10)]\n",
    "print(squares)\n",
    "\n",
    "print('\\n')\n",
    "print([i ** 2 for i in range (10)])\n",
    "\n",
    "print('\\n')\n",
    "\n",
    "square_reg = []\n",
    "for i in range(10):\n",
    "    square_reg.append(i**2)\n",
    "print(square_reg)\n",
    "\n",
    "print('\\n')\n",
    "\n",
    "squares2 = [x ** 2 for x in range(20) if x % 2 == 0]\n",
    "print(squares2)"
   ]
  },
  {
   "cell_type": "code",
   "execution_count": 94,
   "metadata": {},
   "outputs": [
    {
     "name": "stdout",
     "output_type": "stream",
     "text": [
      "['M', 'P', 'D', 'J']\n",
      "\n",
      "\n",
      "['M', 'P', 'D', 'J']\n"
     ]
    }
   ],
   "source": [
    "# string comprehension\n",
    "\n",
    "names = ['Max', 'Patt', 'Diana', 'John']\n",
    "\n",
    "first_letter_of_name = [f_char[0] for f_char in names]\n",
    "print(first_letter_of_name)\n",
    "\n",
    "print('\\n')\n",
    "\n",
    "names2 = []\n",
    "\n",
    "for f_char2 in names:  #'names' comes from the list above in line 3\n",
    "    names2.append(f_char2[0])\n",
    "print(names2)\n"
   ]
  },
  {
   "cell_type": "code",
   "execution_count": 103,
   "metadata": {},
   "outputs": [
    {
     "name": "stdout",
     "output_type": "stream",
     "text": [
      "['Patt']\n",
      "['Patt']\n"
     ]
    }
   ],
   "source": [
    "p_names = [first_p for first_p in names if first_p[0] == \"P\"] #We are looking for the first letter of the name \n",
    "                                                            #to be a letter 'P'\n",
    "print(p_names)\n",
    "\n",
    "# Regular way to write it\n",
    "\n",
    "p_names2 = []\n",
    "\n",
    "for name2 in names:\n",
    "    if name2[0] == 'P':\n",
    "        p_names2.append(name2)\n",
    "\n",
    "print(p_names2)"
   ]
  },
  {
   "cell_type": "code",
   "execution_count": null,
   "metadata": {},
   "outputs": [],
   "source": []
  },
  {
   "cell_type": "markdown",
   "metadata": {},
   "source": [
    "### Tuples <br>\n",
    "<p><b>Defined as an immutable list</b></p><br>Seperated by commas using parenthesis"
   ]
  },
  {
   "cell_type": "code",
   "execution_count": 109,
   "metadata": {},
   "outputs": [
    {
     "name": "stdout",
     "output_type": "stream",
     "text": [
      "<class 'tuple'>\n",
      "<class 'tuple'>\n",
      "\n",
      "\n",
      "1\n",
      "\n",
      "\n",
      "3\n",
      "\n",
      "\n",
      "1\n",
      "2\n",
      "3\n",
      "\n",
      "\n",
      "1\n",
      "2\n",
      "3\n",
      "\n",
      "\n",
      "\n",
      "\n",
      "\n",
      "\n"
     ]
    }
   ],
   "source": [
    "tup_1 = 1,2,3 # First way of creating a tuple\n",
    "tup_2 = (1,2,3) #Second way of creating a tuple\n",
    "\n",
    "print(type(tup_1))\n",
    "print(type(tup_2))\n",
    "print('\\n')\n",
    "\n",
    "# Things we can and cannot do with 'tuplex' Tuples are inmutable\n",
    "# Things we can do:\n",
    "\n",
    "print(tup_1[0]) #First obejct in index 0\n",
    "print('\\n')\n",
    "\n",
    "print(len(tup_1)) #How long the tuple is\n",
    "print('\\n')\n",
    "\n",
    "#looping over tuples\n",
    "for i in tup_1:\n",
    "    print(i)\n",
    "print('\\n')\n",
    "\n",
    "# Looping over a tuple with and index using len() and range() functions\n",
    "\n",
    "for number in range(len(tup_1)):\n",
    "    print(tup_1[number])\n",
    "\n",
    "print('\\n')\n",
    "# Thing we cant do:\n",
    "\n",
    "# list.pop()\n",
    "# list.append()\n",
    "\n",
    "print('\\n')\n",
    "\n",
    "print('\\n')\n",
    "\n"
   ]
  },
  {
   "cell_type": "markdown",
   "metadata": {},
   "source": [
    "##### sorted()"
   ]
  },
  {
   "cell_type": "code",
   "execution_count": 117,
   "metadata": {},
   "outputs": [
    {
     "name": "stdout",
     "output_type": "stream",
     "text": [
      "[2, 4, 23, 41, 65, 100]\n",
      "[2, 4, 23, 41, 65, 100, 4, 32, 98, 55, 512]\n",
      "\n",
      "\n",
      "[2, 4, 4, 23, 32, 41, 55, 65, 98, 100, 512]\n",
      "<class 'list'>\n",
      "\n",
      "\n",
      "(2, 4, 4, 23, 32, 41, 55, 65, 98, 100, 512)\n",
      "<class 'tuple'>\n",
      "Look at the parenthesis and this way you can see the difference between the tuple and the lists\n"
     ]
    }
   ],
   "source": [
    "tup_3 = (23, 4, 65, 2, 100, 41)\n",
    "\n",
    "sorted_tup = sorted(tup_3)\n",
    "print(sorted_tup)\n",
    "\n",
    "random_list = [4, 32, 98, 55, 512]\n",
    "\n",
    "combined_lists = sorted_tup + random_list\n",
    "print(combined_lists)\n",
    "\n",
    "print('\\n')\n",
    "\n",
    "# We can also sort the new list\n",
    "\n",
    "combined_lists = sorted(sorted_tup + random_list)\n",
    "\n",
    "print(combined_lists)\n",
    "print(type(combined_lists))\n",
    "print('\\n')\n",
    "\n",
    "# We can also make the new combined list into a tuple\n",
    "new_tup = tuple(combined_lists)\n",
    "\n",
    "print(new_tup)\n",
    "print(type(new_tup))\n",
    "print('Look at the parenthesis and this way you can see the difference between the tuple and the lists')\n"
   ]
  },
  {
   "cell_type": "markdown",
   "metadata": {},
   "source": [
    "##### Adding values to a Tuple"
   ]
  },
  {
   "cell_type": "code",
   "execution_count": 119,
   "metadata": {},
   "outputs": [
    {
     "name": "stdout",
     "output_type": "stream",
     "text": [
      "(1, 2, 3)\n",
      "\n",
      "\n",
      "(1, 2, 3, 5)\n"
     ]
    }
   ],
   "source": [
    "tup_1 = 1,2,3\n",
    "\n",
    "# You can add objects to a tuple\n",
    "\n",
    "print(tup_1)\n",
    "print('\\n')\n",
    "\n",
    "tup_1 = tup_1 + (5,)  ######IMPORTANT : look at is being added. THE COMMA IS ABSOLUTELY NECESSARY. Remove it \n",
    "                        ##and re-run to see the error\n",
    "\n",
    "print(tup_1)"
   ]
  },
  {
   "cell_type": "markdown",
   "metadata": {},
   "source": [
    "## Functions"
   ]
  },
  {
   "cell_type": "markdown",
   "metadata": {},
   "source": [
    "##### User-Defined vs. Built-In Functions"
   ]
  },
  {
   "cell_type": "code",
   "execution_count": 124,
   "metadata": {},
   "outputs": [
    {
     "data": {
      "text/plain": [
       "'Hello world!'"
      ]
     },
     "execution_count": 124,
     "metadata": {},
     "output_type": "execute_result"
    }
   ],
   "source": [
    "# User defined!\n",
    "def sayHello():\n",
    "    return 'Hello world!'\n",
    "\n",
    "sayHello()\n",
    "\n",
    "print(sayHello())"
   ]
  },
  {
   "cell_type": "markdown",
   "metadata": {},
   "source": [
    "##### Accepting Parameters"
   ]
  },
  {
   "cell_type": "code",
   "execution_count": 147,
   "metadata": {},
   "outputs": [
    {
     "name": "stdout",
     "output_type": "stream",
     "text": [
      "Hellos, Ivan Anguloc\n",
      "\n",
      "\n",
      "Hello, Ivan Angulo\n",
      "\n",
      "\n",
      "\n",
      "\n",
      "What is your name ? Ivan\n"
     ]
    },
    {
     "data": {
      "text/plain": [
       "'Hellow, Ivan Angulo'"
      ]
     },
     "execution_count": 147,
     "metadata": {},
     "output_type": "execute_result"
    }
   ],
   "source": [
    "# Arguments or Parameters\n",
    "\n",
    "# Order matters\n",
    "# a variable can be of any type of object\n",
    "def printFullName(first_name, last_name):\n",
    "    return f'Hellos, {first_name} {last_name}'\n",
    "    \n",
    "\n",
    "print(printFullName('Ivan', 'Anguloc'))\n",
    "# or\n",
    "print('\\n')\n",
    "\n",
    "def printFullName1(first_name, last_name):\n",
    "    return f'Hello, {first_name} {last_name}'\n",
    "\n",
    "print(printFullName1('Ivan', 'Angulo'))\n",
    "\n",
    "# or\n",
    "print('\\n')\n",
    "\n",
    "def printFullName2(first_name, last_name):\n",
    "    return f'Hello, {first_name} {last_name}'\n",
    "\n",
    "a_name = 'Ivan'\n",
    "\n",
    "printFullName2(a_name, 'Angelo')\n",
    "\n",
    "# We can also ask for user input\n",
    "\n",
    "print('\\n')\n",
    "\n",
    "b_name = input('What is your name ? ')\n",
    "\n",
    "def printFullName3(first_name, last_name):\n",
    "    return f'Hellow, {first_name} {last_name}'\n",
    "\n",
    "printFullName3(b_name, 'Angulo')"
   ]
  },
  {
   "cell_type": "markdown",
   "metadata": {},
   "source": [
    "##### Default Parameters"
   ]
  },
  {
   "cell_type": "code",
   "execution_count": 149,
   "metadata": {},
   "outputs": [
    {
     "name": "stdout",
     "output_type": "stream",
     "text": [
      "The name is Bond..... Ivan Bond!\n"
     ]
    }
   ],
   "source": [
    "# Default parameters need to be declared AFTER non-default parameters each time\n",
    "\n",
    "def printAgentName(first_name, last_name = 'Bond'):\n",
    "    return f'The name is {last_name}..... {first_name} {last_name}!'\n",
    "\n",
    "print(printAgentName('Ivan'))"
   ]
  },
  {
   "cell_type": "markdown",
   "metadata": {},
   "source": [
    "##### Making an Argument Optional"
   ]
  },
  {
   "cell_type": "code",
   "execution_count": 152,
   "metadata": {},
   "outputs": [
    {
     "data": {
      "text/plain": [
       "'Hello, Mr  Ed'"
      ]
     },
     "execution_count": 152,
     "metadata": {},
     "output_type": "execute_result"
    }
   ],
   "source": [
    "def printHorseName(first, middle = '', last = 'Ed'):\n",
    "    return f'Hello, {first} {middle} {last}'\n",
    "    \n",
    "\n",
    "printHorseName('Mr')  # The other two parameters are unnecessary since 'middle' is already defined as optional \n",
    "                      # with the two '', and the third one is already defined as 'Ed'\n",
    "    \n",
    "    "
   ]
  },
  {
   "cell_type": "markdown",
   "metadata": {},
   "source": [
    "##### Keyword Arguments"
   ]
  },
  {
   "cell_type": "code",
   "execution_count": 154,
   "metadata": {},
   "outputs": [
    {
     "name": "stdout",
     "output_type": "stream",
     "text": [
      "\n",
      "\n"
     ]
    },
    {
     "data": {
      "text/plain": [
       "\"The superhero's name is Spider-man and his power is spidey-snese!\""
      ]
     },
     "execution_count": 154,
     "metadata": {},
     "output_type": "execute_result"
    }
   ],
   "source": [
    "# last_name='Max', first_name='Smith' in the function call\n",
    "def printSuperHero(name, power = 'Flying'):\n",
    "    return f\"The superhero's name is {name} and his power is {power}!\"\n",
    "\n",
    "printSuperHero('Superman')\n",
    "\n",
    "print('\\n')\n",
    "\n",
    "# We can change the order of the variables as long as we defined it's value when calling the funtion. See below\n",
    "\n",
    "def printSuperHero2(name, power = 'Flying'):\n",
    "    return f\"The superhero's name is {name} and his power is {power}!\"\n",
    "\n",
    "printSuperHero2(power = 'spidey-sense', name = 'Spider-man')\n",
    "\n",
    "\n",
    "# see above"
   ]
  },
  {
   "cell_type": "markdown",
   "metadata": {},
   "source": [
    "# Creating a start, stop, step function"
   ]
  },
  {
   "cell_type": "code",
   "execution_count": 158,
   "metadata": {},
   "outputs": [
    {
     "name": "stdout",
     "output_type": "stream",
     "text": [
      "3\n",
      "5\n",
      "7\n",
      "9\n",
      "11\n",
      "13\n",
      "15\n",
      "17\n",
      "19\n"
     ]
    }
   ],
   "source": [
    "def my_range(stop, start=0, step=1):\n",
    "    for i in range(start,stop,step):\n",
    "        print(i)\n",
    "        \n",
    "my_range(20, 3, 2)"
   ]
  },
  {
   "cell_type": "markdown",
   "metadata": {},
   "source": [
    "##### Returning Values"
   ]
  },
  {
   "cell_type": "code",
   "execution_count": 160,
   "metadata": {},
   "outputs": [
    {
     "data": {
      "text/plain": [
       "7"
      ]
     },
     "execution_count": 160,
     "metadata": {},
     "output_type": "execute_result"
    }
   ],
   "source": [
    "def addNums(num1, num2):\n",
    "    return num1 + num2\n",
    "\n",
    "addNums(5, 2)"
   ]
  },
  {
   "cell_type": "markdown",
   "metadata": {},
   "source": [
    "##### *args"
   ]
  },
  {
   "cell_type": "code",
   "execution_count": 167,
   "metadata": {},
   "outputs": [
    {
     "name": "stdout",
     "output_type": "stream",
     "text": [
      "36\n",
      "('DragonZord', 'vanilla', 2, 3)\n",
      "{'testing': 'Joel'}\n",
      "\n",
      "\n",
      "DragonZord\n",
      "vanilla\n",
      "2\n",
      "3\n",
      "\n",
      "\n",
      "testing\n",
      "\n",
      "\n"
     ]
    }
   ],
   "source": [
    "# args stand fro argumentsm and takes ANY number of arguments as paramaters\n",
    "# Must be last if multiple parameters are present\n",
    "\n",
    "def printArgs(num1, *args, **kwargs):\n",
    "    print(num1)\n",
    "    print(args)\n",
    "    print(kwargs)\n",
    "    \n",
    "    # We can iterate over the different arguments as follows\n",
    "    print('\\n')\n",
    "    for arg in args:\n",
    "        print(arg)\n",
    "    print('\\n')\n",
    "    \n",
    "    for kwarg in kwargs:\n",
    "        print(kwarg)\n",
    "\n",
    "        print('\\n')\n",
    "printArgs(36, 'DragonZord', 'vanilla', 2, 3, testing='Joel')\n",
    "\n",
    "# On the next lesson we will dig deeper into dictionaries and arguments. \n",
    "# num1 is '36'. args are \"'DragonZord', 'vanilla', 2, 3\",  while kwargs would be \"testing='Joel'\"\n",
    "\n",
    "\n",
    "\n"
   ]
  },
  {
   "cell_type": "markdown",
   "metadata": {},
   "source": [
    "##### Docstring"
   ]
  },
  {
   "cell_type": "code",
   "execution_count": 170,
   "metadata": {},
   "outputs": [
    {
     "name": "stdout",
     "output_type": "stream",
     "text": [
      "George\n",
      "Ramon\n",
      "Peter\n",
      "\n",
      "\n",
      "Help on function printNames in module __main__:\n",
      "\n",
      "printNames(list_1)\n",
      "    Function requires a list to be passed as a paramater\n",
      "    and will print the contents of the list. Expecting a list of \n",
      "    names(strings) to be passed.\n",
      "\n"
     ]
    }
   ],
   "source": [
    "# Just as we can request explanation on how a function in Python works as in : help(range), which will print\n",
    "# all the necessary information obout this specific function and how to use it, we can create our own for \n",
    "# future reference as it is below\n",
    "\n",
    "def printNames(list_1): # All the names of the finciton 'printNames' and the requiered parameters or \n",
    "                        # arguments 'list_1' are all made up to my liking\n",
    "        '''\n",
    "            Function requires a list to be passed as a paramater\n",
    "            and will print the contents of the list. Expecting a list of \n",
    "            names(strings) to be passed.\n",
    "        '''\n",
    "        for name in list_1:\n",
    "            print(name)\n",
    "            \n",
    "            \n",
    "printNames(['George', 'Ramon', 'Peter'])\n",
    "\n",
    "print('\\n')\n",
    "\n",
    "help(printNames)  #This is the name of the function I created and will print all it's instructions"
   ]
  },
  {
   "cell_type": "markdown",
   "metadata": {},
   "source": [
    "#### Using a User Function in a Loop"
   ]
  },
  {
   "cell_type": "code",
   "execution_count": 171,
   "metadata": {},
   "outputs": [
    {
     "name": "stdout",
     "output_type": "stream",
     "text": [
      "Are you ready to quit ? no\n",
      "What do you want to do ? hiking\n",
      "hiking\n",
      "Ready yet ? no\n",
      "What do you want to do ? flying\n",
      "flying\n",
      "Ready yet ? yes\n",
      "What do you want to do ? driving\n",
      "driving\n",
      "Ready yet ? quit\n"
     ]
    }
   ],
   "source": [
    "def printInput(answer):\n",
    "    print(answer)\n",
    "    \n",
    "response = input('Are you ready to quit ? ')\n",
    "\n",
    "while True:\n",
    "    ask = input('What do you want to do ? ')\n",
    "    printInput(ask)\n",
    "    \n",
    "    response = input('Ready yet ? ')\n",
    "    if response.lower() == 'quit':\n",
    "        break\n",
    "    "
   ]
  },
  {
   "cell_type": "markdown",
   "metadata": {},
   "source": [
    "## Function Exercise <br>\n",
    "<p>Write a function that loops through a list of first_names and a list of last_names, combines the two and return a list of full_names</p>"
   ]
  },
  {
   "cell_type": "code",
   "execution_count": 177,
   "metadata": {},
   "outputs": [
    {
     "name": "stdout",
     "output_type": "stream",
     "text": [
      "['John Smith', 'Evan Smith', 'Jordan Williams', 'Max Bell']\n",
      "['John Smith', 'Evan Smith', 'Jordan Williams', 'Max Bell']\n"
     ]
    }
   ],
   "source": [
    "first_name = ['John', 'Evan', 'Jordan', 'Max']\n",
    "last_name = ['Smith', 'Smith', 'Williams', 'Bell']\n",
    "\n",
    "# Output: ['John Smith', 'Evan Smith', 'Jordan Williams', 'Max Bell']\n",
    "\n",
    "fullnames = []\n",
    "for names in zip(first_name, last_name):\n",
    "    fullnames.append(' '.join(names))\n",
    "print(fullnames)\n",
    "\n",
    "fullnames2 = [' '.join(names) for names in zip(first_name, last_name)]\n",
    "print(fullnames2)"
   ]
  },
  {
   "cell_type": "markdown",
   "metadata": {},
   "source": [
    "## Scope <br>\n",
    "<p>Scope refers to the ability to access variables, different types of scope include:<br>a) Global<br>b) Function (local)<br>c) Class (local)</p>"
   ]
  },
  {
   "cell_type": "code",
   "execution_count": 176,
   "metadata": {},
   "outputs": [
    {
     "name": "stdout",
     "output_type": "stream",
     "text": [
      "5\n",
      "10\n"
     ]
    }
   ],
   "source": [
    "number = 3 #This is a globalvariable; accesible ANYWHERE in my code now\n",
    "\n",
    "def myFunc():\n",
    "    number = 6 # Local function variable; accesible only inside my finction\n",
    "    number += 4\n",
    "    return number #look at the different results when both are printed\n",
    "\n",
    "print(number + 2) #This comes from the global variable\n",
    "print(myFunc())\n"
   ]
  },
  {
   "cell_type": "markdown",
   "metadata": {},
   "source": [
    "# Exercises"
   ]
  },
  {
   "cell_type": "markdown",
   "metadata": {},
   "source": [
    "## Exercise 1 <br>\n",
    "<p>Given a list as a parameter,write a function that returns a list of numbers that are less than ten</b></i></p><br>\n",
    "<p> For example: Say your input parameter to the function is [1,11,14,5,8,9]...Your output should [1,5,8,9]</p>"
   ]
  },
  {
   "cell_type": "code",
   "execution_count": 181,
   "metadata": {},
   "outputs": [
    {
     "data": {
      "text/plain": [
       "[1, 5, 8, 9]"
      ]
     },
     "execution_count": 181,
     "metadata": {},
     "output_type": "execute_result"
    }
   ],
   "source": [
    "# Use the following list - [1,11,14,5,8,9]\n",
    "\n",
    "# l_1 = [1,11,14,5,8,9]\n",
    "\n",
    "def new_list(l_1):\n",
    "    l_1.sort()\n",
    "    new_l = []\n",
    "    for i in l_1:\n",
    "        if i <= 10:\n",
    "            new_l.append(i)\n",
    "\n",
    "    return new_l\n",
    "    \n",
    "\n",
    "l_1 = [1,11,14,5,8,9]\n",
    "new_list(l_1)"
   ]
  },
  {
   "cell_type": "markdown",
   "metadata": {},
   "source": [
    "## Exercise 2 <br>\n",
    "<p>Write a function that takes in two lists and returns the two lists merged together and sorted<br>\n",
    "<b><i>Hint: You can use the .sort() method</i></b></p>"
   ]
  },
  {
   "cell_type": "code",
   "execution_count": 182,
   "metadata": {},
   "outputs": [
    {
     "data": {
      "text/plain": [
       "[1, 2, 3, 3, 4, 4, 5, 5, 6, 6, 7, 8, 10]"
      ]
     },
     "execution_count": 182,
     "metadata": {},
     "output_type": "execute_result"
    }
   ],
   "source": [
    "# l_1 = [1,2,3,4,5,6]\n",
    "# l_2 = [3,4,5,6,7,8,10]\n",
    "\n",
    "# The excercise did not specify if duplicates needed to be removed\n",
    "# If that was the case then the code below would have been used :\n",
    "#         no_dup_l = []\n",
    "#         for i in new_l:\n",
    "#              if x not in no_dup_l:\n",
    "#                   no_dup_l.append(i)\n",
    "\n",
    "\n",
    "def new_list(l_1, l_2):\n",
    "    new_l = l_1 + l_2    \n",
    "    new_l.sort()\n",
    "    return new_l\n",
    "    \n",
    "\n",
    "l_1 = [1,2,3,4,5,6]\n",
    "l_2 = [3,4,5,6,7,8,10]\n",
    "new_list(l_1, l_2)"
   ]
  }
 ],
 "metadata": {
  "kernelspec": {
   "display_name": "Python 3 (ipykernel)",
   "language": "python",
   "name": "python3"
  },
  "language_info": {
   "codemirror_mode": {
    "name": "ipython",
    "version": 3
   },
   "file_extension": ".py",
   "mimetype": "text/x-python",
   "name": "python",
   "nbconvert_exporter": "python",
   "pygments_lexer": "ipython3",
   "version": "3.9.12"
  }
 },
 "nbformat": 4,
 "nbformat_minor": 2
}
